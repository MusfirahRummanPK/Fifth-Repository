{
 "cells": [
  {
   "cell_type": "markdown",
   "id": "85f3d133",
   "metadata": {},
   "source": [
    "# List\n",
    "### Definition :\n",
    "##### A list is an ordered collection of items and it can store multiple items of different data types . Lists are defined using suare brackets [ ] .\n",
    "### Example : "
   ]
  },
  {
   "cell_type": "code",
   "execution_count": 3,
   "id": "9c9180a3",
   "metadata": {},
   "outputs": [
    {
     "name": "stdout",
     "output_type": "stream",
     "text": [
      "Vegetables list: ['potato', 'tomato', 'carrot']\n",
      "First vegetable: potato\n",
      "Updated vegetables list: ['potato', 'tomato', 'carrot', 'onion']\n"
     ]
    }
   ],
   "source": [
    "vegetables = [\"potato\",\"tomato\",\"carrot\"]\n",
    "\n",
    "# Display all items in the list\n",
    "print(\"Vegetables list:\", vegetables)\n",
    "\n",
    "# Access a specific item in the list\n",
    "print(\"First vegetable:\", vegetables [0])\n",
    "\n",
    "# Add a new item to the list\n",
    "vegetables.append(\"onion\")\n",
    "\n",
    "# Display the updated list\n",
    "print(\"Updated vegetables list:\", vegetables)"
   ]
  },
  {
   "cell_type": "markdown",
   "id": "0b43a8a7",
   "metadata": {},
   "source": [
    "# Dictionary\n",
    "### Definition :\n",
    "##### A dictionary is a collection of key value pairs . Each key is unique and each key points to a specific value . Dictionaries are defined using curly brackets { } .\n",
    "### Example :"
   ]
  },
  {
   "cell_type": "code",
   "execution_count": 5,
   "id": "96a7a8fd",
   "metadata": {},
   "outputs": [
    {
     "name": "stdout",
     "output_type": "stream",
     "text": [
      "Person info: {'name': 'Rija', 'age': '16', 'city': 'Lahore'}\n",
      "Name: Rija\n",
      "Updated Person Info: {'name': 'Rija', 'age': '16', 'city': 'Lahore', 'profession': 'Heart Surgeon'}\n"
     ]
    }
   ],
   "source": [
    "person = {\"name\": \"Rija\",\"age\": \"16\",\"city\": \"Lahore\"}\n",
    "\n",
    "# Display the entire dictionary\n",
    "print(\"Person info:\", person)\n",
    "\n",
    "# Access a specific value by key\n",
    "print(\"Name:\", person[\"name\"])\n",
    "\n",
    "# Add a new key-value pair\n",
    "person[\"profession\"] = \"Heart Surgeon\"\n",
    "\n",
    "# Display the updated dictionary\n",
    "print(\"Updated Person Info:\", person)"
   ]
  }
 ],
 "metadata": {
  "kernelspec": {
   "display_name": "base",
   "language": "python",
   "name": "python3"
  },
  "language_info": {
   "codemirror_mode": {
    "name": "ipython",
    "version": 3
   },
   "file_extension": ".py",
   "mimetype": "text/x-python",
   "name": "python",
   "nbconvert_exporter": "python",
   "pygments_lexer": "ipython3",
   "version": "3.12.7"
  }
 },
 "nbformat": 4,
 "nbformat_minor": 5
}
